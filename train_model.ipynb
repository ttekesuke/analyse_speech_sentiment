{
 "cells": [
  {
   "cell_type": "code",
   "execution_count": null,
   "metadata": {
    "vscode": {
     "languageId": "plaintext"
    }
   },
   "outputs": [],
   "source": [
    "import torch\n",
    "from transformers import AutoModelForSequenceClassification, AutoTokenizer, Trainer, TrainingArguments\n",
    "from datasets import load_dataset\n",
    "import numpy as np\n",
    "import zipfile\n",
    "\n",
    "# WRIME データセットのロード\n",
    "dataset = load_dataset(\"izumi-lab/wrime\")\n",
    "\n",
    "# 東北大学の事前学習済みモデルをロード\n",
    "model_name = \"cl-tohoku/bert-base-japanese-whole-word-masking\"\n",
    "tokenizer = AutoTokenizer.from_pretrained(model_name)\n",
    "model = AutoModelForSequenceClassification.from_pretrained(model_name, num_labels=8)\n",
    "\n",
    "# データの前処理\n",
    "def tokenize_function(examples):\n",
    "    return tokenizer(examples[\"sentence\"], padding=\"max_length\", truncation=True)\n",
    "\n",
    "tokenized_datasets = dataset.map(tokenize_function, batched=True)\n",
    "\n",
    "# 訓練パラメータ設定\n",
    "training_args = TrainingArguments(\n",
    "    output_dir=\"./results\",\n",
    "    evaluation_strategy=\"epoch\",\n",
    "    save_strategy=\"epoch\",\n",
    "    per_device_train_batch_size=8,\n",
    "    per_device_eval_batch_size=8,\n",
    "    num_train_epochs=1,\n",
    "    logging_dir=\"./logs\",\n",
    ")\n",
    "\n",
    "trainer = Trainer(\n",
    "    model=model,\n",
    "    args=training_args,\n",
    "    train_dataset=tokenized_datasets[\"train\"],\n",
    "    eval_dataset=tokenized_datasets[\"validation\"],\n",
    ")\n",
    "\n",
    "# モデルの訓練\n",
    "trainer.train()\n",
    "\n",
    "# 学習済みモデルの保存\n",
    "model_path = \"trained_model\"\n",
    "model.save_pretrained(model_path)\n",
    "tokenizer.save_pretrained(model_path)\n",
    "\n",
    "# モデルをZIP化してダウンロード用に準備\n",
    "zip_filename = \"trained_model.zip\"\n",
    "with zipfile.ZipFile(zip_filename, 'w', zipfile.ZIP_DEFLATED) as zf:\n",
    "    zf.write(model_path + \"/config.json\", \"trained_model/config.json\")\n",
    "    zf.write(model_path + \"/pytorch_model.bin\", \"trained_model/pytorch_model.bin\")\n",
    "    zf.write(model_path + \"/tokenizer.json\", \"trained_model/tokenizer.json\")\n",
    "    zf.write(model_path + \"/vocab.txt\", \"trained_model/vocab.txt\")\n",
    "\n",
    "print(\"Download trained_model.zip from the Colab file system\")\n"
   ]
  }
 ],
 "metadata": {
  "language_info": {
   "name": "python"
  }
 },
 "nbformat": 4,
 "nbformat_minor": 2
}
